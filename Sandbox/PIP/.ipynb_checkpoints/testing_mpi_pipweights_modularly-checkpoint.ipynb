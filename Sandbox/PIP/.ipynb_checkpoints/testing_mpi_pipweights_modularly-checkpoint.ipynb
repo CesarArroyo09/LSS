{
 "cells": [
  {
   "cell_type": "code",
   "execution_count": 1,
   "metadata": {},
   "outputs": [
    {
     "ename": "ImportError",
     "evalue": "cannot import name 'run' from 'fiberassign.assign' (/global/common/software/desi/cori/desiconda/20200801-1.4.0-spec/code/fiberassign/1.4.1/lib/python3.8/site-packages/fiberassign-1.4.1-py3.8-linux-x86_64.egg/fiberassign/assign.py)",
     "output_type": "error",
     "traceback": [
      "\u001b[0;31m---------------------------------------------------------------------------\u001b[0m",
      "\u001b[0;31mImportError\u001b[0m                               Traceback (most recent call last)",
      "\u001b[0;32m<ipython-input-1-1fc8525d649d>\u001b[0m in \u001b[0;36m<module>\u001b[0;34m\u001b[0m\n\u001b[1;32m     26\u001b[0m )\n\u001b[1;32m     27\u001b[0m \u001b[0;34m\u001b[0m\u001b[0m\n\u001b[0;32m---> 28\u001b[0;31m \u001b[0;32mfrom\u001b[0m \u001b[0mfiberassign\u001b[0m\u001b[0;34m.\u001b[0m\u001b[0massign\u001b[0m \u001b[0;32mimport\u001b[0m \u001b[0mAssignment\u001b[0m\u001b[0;34m,\u001b[0m \u001b[0mrun\u001b[0m\u001b[0;34m\u001b[0m\u001b[0;34m\u001b[0m\u001b[0m\n\u001b[0m",
      "\u001b[0;31mImportError\u001b[0m: cannot import name 'run' from 'fiberassign.assign' (/global/common/software/desi/cori/desiconda/20200801-1.4.0-spec/code/fiberassign/1.4.1/lib/python3.8/site-packages/fiberassign-1.4.1-py3.8-linux-x86_64.egg/fiberassign/assign.py)"
     ]
    }
   ],
   "source": [
    "import os\n",
    "import sys\n",
    "\n",
    "from bitarray import bitarray\n",
    "\n",
    "import fitsio\n",
    "\n",
    "import fiberassign\n",
    "\n",
    "from fiberassign.utils import Logger\n",
    "\n",
    "# This distribute_discrete function is not inside fiberassign. Commenting for now.\n",
    "# (23/11/2020)\n",
    "#from fiberassign.utils import distribute_discrete\n",
    "\n",
    "from fiberassign.hardware import load_hardware\n",
    "\n",
    "from fiberassign.tiles import load_tiles\n",
    "\n",
    "from fiberassign.targets import (\n",
    "    Targets,\n",
    "    TargetsAvailable,\n",
    "    TargetTree,\n",
    "    LocationsAvailable,\n",
    "    load_target_file\n",
    ")\n",
    "\n",
    "from fiberassign.assign import Assignment, run"
   ]
  },
  {
   "cell_type": "code",
   "execution_count": 2,
   "metadata": {},
   "outputs": [
    {
     "name": "stdout",
     "output_type": "stream",
     "text": [
      "['/global/cscratch1/sd/caac_a/desi/code/LSS/Sandbox/PIP', '', '/global/common/software/desi/cori/desiconda/20200801-1.4.0-spec/code/desimeter/0.5.1/lib/python3.8/site-packages', '/global/common/software/desi/cori/desiconda/20200801-1.4.0-spec/code/simqso/v1.2.4/lib/python3.8/site-packages', '/global/common/software/desi/cori/desiconda/20200801-1.4.0-spec/code/redrock/0.14.4/lib/python3.8/site-packages', '/global/common/software/desi/cori/desiconda/20200801-1.4.0-spec/code/surveysim/0.12.0/lib/python3.8/site-packages', '/global/common/software/desi/cori/desiconda/20200801-1.4.0-spec/code/desisurvey/0.14.0/lib/python3.8/site-packages', '/global/common/software/desi/cori/desiconda/20200801-1.4.0-spec/code/fiberassign/1.4.1/lib/python3.8/site-packages', '/global/common/software/desi/cori/desiconda/20200801-1.4.0-spec/code/desisim/0.35.3/lib/python3.8/site-packages', '/global/common/software/desi/cori/desiconda/20200801-1.4.0-spec/code/desispec/0.34.7/lib/python3.8/site-packages', '/global/common/software/desi/cori/desiconda/20200801-1.4.0-spec/code/specsim/v0.14/lib/python3.8/site-packages', '/global/common/software/desi/cori/desiconda/20200801-1.4.0-spec/code/desitarget/0.42.0/lib/python3.8/site-packages', '/global/common/software/desi/cori/desiconda/20200801-1.4.0-spec/code/desimodel/0.13.0/lib/python3.8/site-packages', '/global/common/software/desi/cori/desiconda/20200801-1.4.0-spec/code/specter/0.9.4/lib/python3.8/site-packages', '/global/common/software/desi/cori/desiconda/20200801-1.4.0-spec/code/desiutil/3.0.3/lib/python3.8/site-packages', '/global/common/software/desi/cori/desiconda/20200801-1.4.0-spec/aux/lib/python3.8/site-packages', '/global/common/software/desi/cori/desiconda/20200801-1.4.0-spec/conda/lib/python3.8/site-packages', '/global/cscratch1/sd/caac_a/desi/conda/desidev/lib/python3.8/site-packages', '/global/common/software/desi/cori/desiconda/20200801-1.4.0-spec/code/desimeter/0.5.1/lib/python3.8/site-packages/desimeter-0.5.1-py3.8.egg', '/global/common/software/desi/cori/desiconda/20200801-1.4.0-spec/code/redrock/0.14.4/lib/python3.8/site-packages/redrock-0.14.4-py3.8.egg', '/global/common/software/desi/cori/desiconda/20200801-1.4.0-spec/code/surveysim/0.12.0/lib/python3.8/site-packages/surveysim-0.12.0-py3.8.egg', '/global/common/software/desi/cori/desiconda/20200801-1.4.0-spec/code/desisurvey/0.14.0/lib/python3.8/site-packages/desisurvey-0.14.0-py3.8.egg', '/global/common/software/desi/cori/desiconda/20200801-1.4.0-spec/code/fiberassign/1.4.1/lib/python3.8/site-packages/fiberassign-1.4.1-py3.8-linux-x86_64.egg', '/global/common/software/desi/cori/desiconda/20200801-1.4.0-spec/code/desisim/0.35.3/lib/python3.8/site-packages/desisim-0.35.3-py3.8.egg', '/global/common/software/desi/cori/desiconda/20200801-1.4.0-spec/code/desispec/0.34.7/lib/python3.8/site-packages/desispec-0.34.7-py3.8.egg', '/global/common/software/desi/cori/desiconda/20200801-1.4.0-spec/code/specsim/v0.14/lib/python3.8/site-packages/specsim-0.14-py3.8.egg', '/global/common/software/desi/cori/desiconda/20200801-1.4.0-spec/code/desitarget/0.42.0/lib/python3.8/site-packages/desitarget-0.42.0-py3.8.egg', '/global/common/software/desi/cori/desiconda/20200801-1.4.0-spec/code/desimodel/0.13.0/lib/python3.8/site-packages/desimodel-0.13.0-py3.8.egg', '/global/common/software/desi/cori/desiconda/20200801-1.4.0-spec/code/specter/0.9.4/lib/python3.8/site-packages/specter-0.9.4-py3.8.egg', '/global/common/software/desi/cori/desiconda/20200801-1.4.0-spec/code/desiutil/3.0.3/lib/python3.8/site-packages/desiutil-3.0.3-py3.8.egg', '/global/common/software/desi/cori/desiconda/20200801-1.4.0-spec/conda/lib/python38.zip', '/global/common/software/desi/cori/desiconda/20200801-1.4.0-spec/conda/lib/python3.8', '/global/common/software/desi/cori/desiconda/20200801-1.4.0-spec/conda/lib/python3.8/lib-dynload', '/global/common/software/desi/cori/desiconda/20200801-1.4.0-spec/conda/lib/python3.8/site-packages/IPython/extensions', '/global/u2/c/caac_a/.ipython']\n"
     ]
    }
   ],
   "source": [
    "print(sys.path)"
   ]
  },
  {
   "cell_type": "code",
   "execution_count": null,
   "metadata": {},
   "outputs": [],
   "source": []
  }
 ],
 "metadata": {
  "kernelspec": {
   "display_name": "desidev",
   "language": "python",
   "name": "desidev"
  },
  "language_info": {
   "codemirror_mode": {
    "name": "ipython",
    "version": 3
   },
   "file_extension": ".py",
   "mimetype": "text/x-python",
   "name": "python",
   "nbconvert_exporter": "python",
   "pygments_lexer": "ipython3",
   "version": "3.8.3"
  }
 },
 "nbformat": 4,
 "nbformat_minor": 4
}
